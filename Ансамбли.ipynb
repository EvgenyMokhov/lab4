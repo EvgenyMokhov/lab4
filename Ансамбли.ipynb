{
 "cells": [
  {
   "cell_type": "markdown",
   "id": "3085ec43-34bb-4afb-9515-517e0489db3e",
   "metadata": {},
   "source": [
    "## Ансамбли и полносвязные нейронные сети\n",
    "В этом ноутбуке вам нужно обучить модели на датасете классификации из предыдущего ноутбука и сравнить результаты. Вам будет предоставлен baseline, на основе которого вы будете доделывать предсказывающие модели. Оценка лабы будет зависеть от ROC-AUC на тестовых данных по следующим критериям:\n",
    "\\\n",
    "AUC - на тестовых данных\n",
    "- $AUC \\leq 0.76$ - 0 баллов\n",
    "- $0.76 < AUC \\leq 0.77$ - 2 балла\n",
    "- $0.77 < AUC \\leq 0.78$ - 4 балла\n",
    "- $0.78 < AUC \\leq 0.79$ - 6 баллов\n",
    "- $0.79 < AUC \\leq 0.80$ - 8 баллов\n",
    "- $AUC > 0.80$ - 10 баллов\n"
   ]
  },
  {
   "cell_type": "code",
   "execution_count": 2,
   "id": "ec07e3a2-480a-4350-868e-02679ff2aada",
   "metadata": {
    "tags": []
   },
   "outputs": [
    {
     "ename": "ModuleNotFoundError",
     "evalue": "No module named 'sklearn'",
     "output_type": "error",
     "traceback": [
      "\u001b[1;31m---------------------------------------------------------------------------\u001b[0m",
      "\u001b[1;31mModuleNotFoundError\u001b[0m                       Traceback (most recent call last)",
      "Cell \u001b[1;32mIn[2], line 1\u001b[0m\n\u001b[1;32m----> 1\u001b[0m \u001b[38;5;28;01mfrom\u001b[39;00m \u001b[38;5;21;01msklearn\u001b[39;00m\u001b[38;5;21;01m.\u001b[39;00m\u001b[38;5;21;01mensemble\u001b[39;00m \u001b[38;5;28;01mimport\u001b[39;00m RandomForestClassifier, GradientBoostingClassifier\n\u001b[0;32m      2\u001b[0m \u001b[38;5;28;01mfrom\u001b[39;00m \u001b[38;5;21;01msklearn\u001b[39;00m\u001b[38;5;21;01m.\u001b[39;00m\u001b[38;5;21;01mneural_network\u001b[39;00m \u001b[38;5;28;01mimport\u001b[39;00m MLPClassifier\n\u001b[0;32m      4\u001b[0m \u001b[38;5;28;01mfrom\u001b[39;00m \u001b[38;5;21;01msklearn\u001b[39;00m\u001b[38;5;21;01m.\u001b[39;00m\u001b[38;5;21;01mmetrics\u001b[39;00m \u001b[38;5;28;01mimport\u001b[39;00m roc_auc_score, precision_score, recall_score, roc_curve, accuracy_score\n",
      "\u001b[1;31mModuleNotFoundError\u001b[0m: No module named 'sklearn'"
     ]
    }
   ],
   "source": [
    "from sklearn.ensemble import RandomForestClassifier, GradientBoostingClassifier\n",
    "from sklearn.neural_network import MLPClassifier\n",
    "from sklearn.model_selection import GridSearchCV\n",
    "\n",
    "from sklearn.metrics import roc_auc_score, precision_score, recall_score, roc_curve, accuracy_score\n",
    "\n",
    "from sklearn.model_selection import train_test_split\n",
    "\n",
    "import matplotlib.pyplot as plt\n",
    "import pandas as pd\n",
    "import numpy as np"
   ]
  },
  {
   "cell_type": "code",
   "execution_count": 1,
   "id": "563ad31b-5c83-4366-819a-34dad4edecdc",
   "metadata": {
    "tags": []
   },
   "outputs": [
    {
     "ename": "NameError",
     "evalue": "name 'pd' is not defined",
     "output_type": "error",
     "traceback": [
      "\u001b[1;31m---------------------------------------------------------------------------\u001b[0m",
      "\u001b[1;31mNameError\u001b[0m                                 Traceback (most recent call last)",
      "Cell \u001b[1;32mIn[1], line 1\u001b[0m\n\u001b[1;32m----> 1\u001b[0m data \u001b[38;5;241m=\u001b[39m \u001b[43mpd\u001b[49m\u001b[38;5;241m.\u001b[39mread_csv(\u001b[38;5;124m'\u001b[39m\u001b[38;5;124mgerman.csv\u001b[39m\u001b[38;5;124m'\u001b[39m, sep\u001b[38;5;241m=\u001b[39m\u001b[38;5;124m'\u001b[39m\u001b[38;5;124m;\u001b[39m\u001b[38;5;124m'\u001b[39m)\n\u001b[0;32m      2\u001b[0m \u001b[38;5;28mprint\u001b[39m(data\u001b[38;5;241m.\u001b[39mhead())\n\u001b[0;32m      4\u001b[0m X \u001b[38;5;241m=\u001b[39m data\u001b[38;5;241m.\u001b[39miloc[:, \u001b[38;5;241m1\u001b[39m:]\u001b[38;5;241m.\u001b[39mto_numpy()\n",
      "\u001b[1;31mNameError\u001b[0m: name 'pd' is not defined"
     ]
    }
   ],
   "source": [
    "data = pd.read_csv('german.csv', sep=';')\n",
    "X = data.iloc[:, 1:].to_numpy()\n",
    "y = data.iloc[:, 0].to_numpy()\n",
    "X_train, X_test, y_train, y_test = train_test_split(X, y, test_size=0.2, random_state=42)\n",
    "print(data.query('Age_years < 0'))"
   ]
  },
  {
   "cell_type": "code",
   "execution_count": null,
   "id": "f93737ec-e5eb-4d72-8beb-5dba4d4c581f",
   "metadata": {
    "tags": []
   },
   "outputs": [],
   "source": [
    "plt.hist(y_train, bins=2, edgecolor='k')\n",
    "plt.xticks([0, 1])\n",
    "plt.xlabel('Class (0: Non-Creditworthy, 1: Creditworthy)')\n",
    "plt.ylabel('Count')\n",
    "plt.title('Distribution of Classes in Training Data')\n",
    "plt.show()"
   ]
  },
  {
   "cell_type": "code",
   "execution_count": null,
   "id": "c1cf8d00-92a3-4b62-bca4-d854b72574d1",
   "metadata": {
    "tags": []
   },
   "outputs": [],
   "source": [
    "rf_model = RandomForestClassifier(random_state=42)\n",
    "param_grid = {\n",
    "    'n_estimators': [50, 100, 200],\n",
    "    'max_depth': [None, 10, 20, 30],\n",
    "    'min_samples_split': [2, 5, 10],\n",
    "    'min_samples_leaf': [1, 2, 4]\n",
    "}\n",
    "\n",
    "grid_search = GridSearchCV(estimator=rf_model, param_grid=param_grid, cv=5, scoring='roc_auc', verbose=2)\n",
    "grid_search.fit(X_train, y_train)\n",
    "# Лучшие параметры\n",
    "best_params = grid_search.best_params_\n",
    "print(\"Лучшие параметры:\", best_params)\n",
    "best_rf_model = grid_search.best_estimator_\n",
    "rf_pred = best_rf_model.predict(X_test)\n",
    "rf_roc_auc = roc_auc_score(y_test, rf_pred)\n",
    "rf_accuracy = accuracy_score(y_test, rf_pred)\n",
    "rf_precision = precision_score(y_test, rf_pred)\n",
    "rf_recall = recall_score(y_test, rf_pred)\n",
    "print(\"Метрики для лучшей модели Random Forest:\")\n",
    "print(f\"ROC AUC: {rf_roc_auc:.2f}\")\n",
    "print(f\"Accuracy: {rf_accuracy:.2f}\")\n",
    "print(f\"Precision: {rf_precision:.2f}\")\n",
    "print(f\"Recall: {rf_recall:.2f}\")\n",
    "\n",
    "gb_model = GradientBoostingClassifier(random_state=42)\n",
    "param_grid = {\n",
    "    'n_estimators': [100, 200],\n",
    "    'learning_rate': [0.01, 0.1, 1],\n",
    "    'max_depth': [3, 5, 7],\n",
    "    'subsample': [0.5, 1.0]\n",
    "}\n",
    "\n",
    "grid_search = GridSearchCV(estimator=gb_model, param_grid=param_grid, cv=5, scoring='roc_auc', verbose=2)\n",
    "grid_search.fit(X_train, y_train)\n",
    "# Лучшие параметры\n",
    "best_params = grid_search.best_params_\n",
    "print(\"Лучшие параметры:\", best_params)\n",
    "best_gb_model = grid_search.best_estimator_\n",
    "gb_pred = best_gb_model.predict(X_test)\n",
    "gb_roc_auc = roc_auc_score(y_test, gb_pred)\n",
    "gb_accuracy = accuracy_score(y_test, gb_pred)\n",
    "gb_precision = precision_score(y_test, gb_pred)\n",
    "gb_recall = recall_score(y_test, gb_pred)\n",
    "print(\"\\nМетрики для лучшей модели Gradient Boosting:\")\n",
    "print(f\"ROC AUC: {gb_roc_auc:.2f}\")\n",
    "print(f\"Accuracy: {gb_accuracy:.2f}\")\n",
    "print(f\"Precision: {gb_precision:.2f}\")\n",
    "print(f\"Recall: {gb_recall:.2f}\")"
   ]
  },
  {
   "cell_type": "code",
   "execution_count": null,
   "id": "ae1e040c-ddd0-4952-9dcb-58c1226da40a",
   "metadata": {
    "tags": []
   },
   "outputs": [],
   "source": [
    "mlp_model = MLPClassifier(random_state=42)\n",
    "param_grid = {\n",
    "    'hidden_layer_sizes': [(50,), (100,), (150,)],\n",
    "    'activation': ['identity', 'logistic', 'tanh', 'relu'],\n",
    "    'solver': ['lbfgs', 'sgd', 'adam'],\n",
    "    'alpha': [0.0001, 0.001, 0.01],\n",
    "    'max_iter': [200, 500]\n",
    "}\n",
    "\n",
    "grid_search = GridSearchCV(estimator=mlp_model, param_grid=param_grid, cv=5, scoring='roc_auc', verbose=2)\n",
    "grid_search.fit(X_train, y_train)\n",
    "# Лучшие параметры\n",
    "best_params = grid_search.best_params_\n",
    "print(\"Лучшие параметры:\", best_params)\n",
    "best_mlp_model = grid_search.best_estimator_\n",
    "mlp_pred = best_mlp_model.predict(X_test)\n",
    "mlp_roc_auc = roc_auc_score(y_test, mlp_pred)\n",
    "mlp_accuracy = accuracy_score(y_test, mlp_pred)\n",
    "mlp_precision = precision_score(y_test, mlp_pred)\n",
    "mlp_recall = recall_score(y_test, mlp_pred)\n",
    "print(\"\\nМетрики для лучшей модели MLP (Neural Network):\")\n",
    "print(f\"ROC AUC: {mlp_roc_auc:.2f}\")\n",
    "print(f\"Accuracy: {mlp_accuracy:.2f}\")\n",
    "print(f\"Precision: {mlp_precision:.2f}\")\n",
    "print(f\"Recall: {mlp_recall:.2f}\")"
   ]
  },
  {
   "cell_type": "markdown",
   "id": "d2d6eb00-77fd-40dc-a3c5-35c1fe0200c0",
   "metadata": {},
   "source": [
    "## Экспериментируйте\n",
    "Для получения лучшего качества придется поэкспериментировать. Подсказка: попробуйте оптимизировать гиперпараметры модели"
   ]
  }
 ],
 "metadata": {
  "kernelspec": {
   "display_name": "Python 3 (ipykernel)",
   "language": "python",
   "name": "python3"
  },
  "language_info": {
   "codemirror_mode": {
    "name": "ipython",
    "version": 3
   },
   "file_extension": ".py",
   "mimetype": "text/x-python",
   "name": "python",
   "nbconvert_exporter": "python",
   "pygments_lexer": "ipython3",
   "version": "3.12.4"
  }
 },
 "nbformat": 4,
 "nbformat_minor": 5
}
